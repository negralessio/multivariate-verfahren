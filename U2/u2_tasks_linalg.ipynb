{
 "cells": [
  {
   "cell_type": "code",
   "execution_count": 1,
   "metadata": {
    "pycharm": {
     "name": "#%%\n"
    }
   },
   "outputs": [],
   "source": [
    "import numpy as np"
   ]
  },
  {
   "cell_type": "markdown",
   "metadata": {
    "pycharm": {
     "name": "#%% md\n"
    }
   },
   "source": [
    "# Aufgabe 2"
   ]
  },
  {
   "cell_type": "code",
   "execution_count": 2,
   "metadata": {
    "pycharm": {
     "name": "#%%\n"
    }
   },
   "outputs": [
    {
     "name": "stdout",
     "output_type": "stream",
     "text": [
      "Shape of x: (3, 1)\n",
      "Shape of y: (3, 1)\n",
      "Tensor product of x and y: \n",
      " [[ 3  2  1]\n",
      " [-6 -4 -2]\n",
      " [ 9  6  3]]\n",
      "Determinate of the tensorproduct:\n",
      " 0.0\n"
     ]
    }
   ],
   "source": [
    "# Init (3x1) Vectors (use double '[]')\n",
    "x = np.array([[1, -2, 3]]).T\n",
    "y = np.array([[3, 2, 1]]).T\n",
    "\n",
    "print(f\"Shape of x: {x.shape}\")\n",
    "print(f\"Shape of y: {y.shape}\")\n",
    "\n",
    "tensorproduct = x*y.T\n",
    "print(f\"Tensor product of x and y: \\n {tensorproduct}\")\n",
    "\n",
    "det = np.linalg.det(tensorproduct)\n",
    "print(f\"Determinate of the tensorproduct:\\n {det}\")"
   ]
  },
  {
   "cell_type": "markdown",
   "metadata": {
    "pycharm": {
     "name": "#%% md\n"
    }
   },
   "source": [
    "# Aufgabe 3"
   ]
  },
  {
   "cell_type": "markdown",
   "source": [
    "Let $A \\in \\mathbb{R}^{(p\\times p)}$, i.e. a quadratic matrix. **Eigenvectors** $a$ of the Matrix $A$ are vectors, which do not change their direction through the multiplication with $A$ (but generally in their length). Thus matrix $A$ acts as a scalar. That scalar is the corresponding **Eigenvalues** denoted as $\\lambda$.\n",
    "We can compute the Eigenvalues by solving the following equation: $$ det(A-\\lambda I)=0 $$.\n",
    "\n",
    "To each Eigenvalue $\\lambda_i$ exists one Eigenvector $a_i$. We can compute the Eigenvector $a_i$ through: $$(A-\\lambda_i I)a_i = 0. $$\n",
    "The following applies:\n",
    "1. $\\sum_{i=1}^m \\lambda_i = trace(A)$\n",
    "2. $\\prod_{i=1}^m \\lambda_i = det(A) $\n",
    "3. ...\n",
    "\n",
    "(see Script p. 18)"
   ],
   "metadata": {
    "collapsed": false,
    "pycharm": {
     "name": "#%% md\n"
    }
   }
  },
  {
   "cell_type": "code",
   "execution_count": 3,
   "metadata": {
    "pycharm": {
     "name": "#%%\n"
    }
   },
   "outputs": [
    {
     "name": "stdout",
     "output_type": "stream",
     "text": [
      "a) trace(A) = 2\n",
      "b) det(A) = -3.0\n",
      "Eigenwerte von A: [ 3. -1.]\n",
      "Eigenvektor von A zu Eigenwert 3.00: [0.70710678 0.70710678]\n",
      "Eigenvektor von A zu Eigenwert -1.00: [-0.70710678  0.70710678]\n",
      "Zu c): Ja es gilt det(A) = lambda_1 * lambda_2 und spur(A) = lambda_1 + lambda_2\n",
      "________________________________________________________________________________\n",
      "Inverse of A = \n",
      "[[-0.3333  0.6667]\n",
      " [ 0.6667 -0.3333]]\n",
      "Eigenvalues of A_Inverse: [ 0.3334 -1.    ]\n"
     ]
    }
   ],
   "source": [
    "A = np.array([[1, 2], [2, 1]])\n",
    "\n",
    "# Spur / Trace Berechnen\n",
    "print(f\"a) trace(A) = {A.trace()}\")\n",
    "\n",
    "# Determinate berechnen\n",
    "print(f\"b) det(A) = {round(np.linalg.det(A), 0)}\")\n",
    "\n",
    "# Eigenwerte und Eigenvektoren berechnen\n",
    "eigenvalues, eigenvectors = np.linalg.eig(A) # Returns Eigenvalues and Eigenvectors\n",
    "print(f\"Eigenwerte von A: {eigenvalues}\")\n",
    "# Print Eigenvectors\n",
    "for i, eigenvalue in enumerate(eigenvalues):\n",
    "    print(f\"Eigenvektor von A zu Eigenwert {eigenvalue:.2f}: {eigenvectors[:, i]}\")\n",
    "\n",
    "# Zu c): Ja es gilt det(A) = lambda_1 * lambda_2 und spur(A) = lambda_1 + lambda_2\n",
    "print(\"Zu c): Ja es gilt det(A) = lambda_1 * lambda_2 und spur(A) = lambda_1 + lambda_2\")\n",
    "print(80 * \"_\")\n",
    "\n",
    "# Compute Inverse of A and round to 4 decimal places\n",
    "A_inverse = np.around(np.linalg.inv(A), 4)\n",
    "print(f\"Inverse of A = \\n{A_inverse}\")\n",
    "A_inverse_eigenvalues, A_inverse_eigenvectors = np.linalg.eig(A_inverse)\n",
    "print(f\"Eigenvalues of A_Inverse: {A_inverse_eigenvalues}\")"
   ]
  },
  {
   "cell_type": "markdown",
   "metadata": {
    "pycharm": {
     "name": "#%% md\n"
    }
   },
   "source": [
    "Ist $\\lambda$ ein Eigenwert der invertierbaren Matrix $A$ zum Eigenvektor $x$, so ist ${\\tfrac {1}{\\lambda }}$ Eigenwert der inversen Matrix von $A$ zum Eigenvektor $x$.\n",
    "[[Source](https://de.wikipedia.org/wiki/Eigenwertproblem)]"
   ]
  },
  {
   "cell_type": "markdown",
   "metadata": {
    "pycharm": {
     "name": "#%% md\n"
    }
   },
   "source": [
    "# Aufgabe 4"
   ]
  },
  {
   "cell_type": "code",
   "execution_count": 4,
   "metadata": {
    "pycharm": {
     "name": "#%%\n"
    }
   },
   "outputs": [
    {
     "name": "stdout",
     "output_type": "stream",
     "text": [
      "Inverse of W:\n",
      " [[ 0.375 -0.125  0.   ]\n",
      " [-0.125  0.375  0.   ]\n",
      " [ 0.     0.     0.4  ]]\n",
      "__________________________________________________\n",
      "XX' = \n",
      "[[ 1.  0. -0.]\n",
      " [ 0.  1.  0.]\n",
      " [-0.  0.  1.]]\n",
      "Matrix X is orthogonal, since XX' = I = X'X\n",
      "__________________________________________________\n",
      "Inverse of X:\n",
      " [[ 0.71  0.58  0.41]\n",
      " [ 0.71 -0.58 -0.41]\n",
      " [-0.    0.58 -0.82]]\n"
     ]
    }
   ],
   "source": [
    "W = np.array([  [3, 1, 0], \n",
    "                [1, 3, 0], \n",
    "                [0, 0, 2.5]\n",
    "            ])\n",
    "\n",
    "X = np.array([  [round((1/np.sqrt(2)),5), round((1/np.sqrt(3)),5), round((1/np.sqrt(6)),5)],\n",
    "                [round((1/np.sqrt(2)),5), round((-1/np.sqrt(3)),5), round((-1/np.sqrt(6)),5)],\n",
    "                [0, round((1/np.sqrt(3)),5), round((-2/np.sqrt(6)),5)]\n",
    "            ])\n",
    "            \n",
    "W_inverse = np.linalg.inv(W)\n",
    "print(f\"Inverse of W:\\n {W_inverse}\")\n",
    "print(50 * \"_\")\n",
    "\n",
    "res = X.dot(X.T)\n",
    "res = np.around(res, 2)\n",
    "print(f\"XX' = \\n{res}\")\n",
    "print(\"Matrix X is orthogonal, since XX' = I = X'X\")\n",
    "print(50 * \"_\")\n",
    "\n",
    "X_inverse = np.linalg.inv(X.T)\n",
    "X_inverse = np.around(X_inverse, 2)\n",
    "print(f\"Inverse of X:\\n {X_inverse}\")"
   ]
  },
  {
   "cell_type": "markdown",
   "metadata": {
    "pycharm": {
     "name": "#%% md\n"
    }
   },
   "source": [
    "## Aufgabe 5: Alternativ (Tutorium Ansatz)\n",
    "$Z$ is the standardised data matrix of $X$ and can be computed with:\n",
    "$$ Z = (X-1_n\\bar{X}')\\cdot D^{-1} = (X - \\frac{1}{n} 1 1' X) \\cdot D^{-1} $$\n",
    "with ...\n",
    "- $1$ being a 1 Vector in the corresponding length.\n",
    "- $D$ a diagonal matrix with the (empirical) standard deviation of each feature"
   ]
  },
  {
   "cell_type": "code",
   "execution_count": 5,
   "metadata": {
    "pycharm": {
     "name": "#%%\n"
    }
   },
   "outputs": [
    {
     "name": "stdout",
     "output_type": "stream",
     "text": [
      "Standardized Matrix Z = \n",
      "[[-1.161895   -0.8660254  -0.70710678]\n",
      " [ 0.38729833  0.8660254  -0.70710678]\n",
      " [-0.38729833 -0.8660254   1.41421356]\n",
      " [ 1.161895    0.8660254   0.        ]]\n",
      "Empirical Correlationmatrix of X = \n",
      "[[ 1.00000000e+00  8.94427191e-01 -3.24765912e-18]\n",
      " [ 8.94427191e-01  1.00000000e+00 -4.08248290e-01]\n",
      " [-3.24765912e-18 -4.08248290e-01  1.00000000e+00]]\n"
     ]
    }
   ],
   "source": [
    "# Task (a)\n",
    "# Init X with shape (n, p) = (4, 3)\n",
    "X = np.array([  [-2, -1, 0],\n",
    "                [2, 1, 0],\n",
    "                [0, -1, 3],\n",
    "                [4, 1, 1]\n",
    "            ])\n",
    "\n",
    "# Empirische Standardabweichungen der Variablen\n",
    "sigma_1 = np.sqrt((20/3))\n",
    "sigma_2 = np.sqrt((4/3))\n",
    "sigma_3 = np.sqrt(2)\n",
    "\n",
    "D = np.array([  [sigma_1, 0, 0 ], \n",
    "                [0, sigma_2, 0],\n",
    "                [0, 0, sigma_3]\n",
    "            ])\n",
    "\n",
    "n = 4\n",
    "ONES_4 = np.ones((4,1))\n",
    "\n",
    "# Compute Z = (X-1/n 11'X)D^-1\n",
    "Z = (X - ((1/n) * (ONES_4.dot(ONES_4.T)).dot(X))).dot(np.linalg.inv(D))\n",
    "print(f\"Standardized Matrix Z = \\n{Z}\")\n",
    "\n",
    "# Task (b):\n",
    "CORR_X = (1/(n-1)) * (Z.T).dot(Z)\n",
    "print(f\"Empirical Correlationmatrix of X = \\n{CORR_X}\")"
   ]
  }
 ],
 "metadata": {
  "interpreter": {
   "hash": "16ae23b6abc499e889f40727789ac1c213ce5ac199d6a0614ed657ac142282c6"
  },
  "kernelspec": {
   "display_name": "Python 3.8.8 ('base')",
   "language": "python",
   "name": "python3"
  },
  "language_info": {
   "codemirror_mode": {
    "name": "ipython",
    "version": 3
   },
   "file_extension": ".py",
   "mimetype": "text/x-python",
   "name": "python",
   "nbconvert_exporter": "python",
   "pygments_lexer": "ipython3",
   "version": "3.8.8"
  },
  "orig_nbformat": 4
 },
 "nbformat": 4,
 "nbformat_minor": 2
}