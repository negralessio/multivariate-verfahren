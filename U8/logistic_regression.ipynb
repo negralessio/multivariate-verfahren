{
 "cells": [
  {
   "cell_type": "code",
   "execution_count": 1,
   "outputs": [],
   "source": [
    "import pandas as pd\n",
    "import numpy as np\n",
    "import matplotlib.pyplot as plt\n",
    "import seaborn as sns\n",
    "sns.set_theme(style='whitegrid')"
   ],
   "metadata": {
    "collapsed": false,
    "pycharm": {
     "name": "#%%\n"
    }
   }
  },
  {
   "cell_type": "markdown",
   "source": [
    "# Load Data"
   ],
   "metadata": {
    "collapsed": false,
    "pycharm": {
     "name": "#%% md\n"
    }
   }
  },
  {
   "cell_type": "code",
   "execution_count": 2,
   "outputs": [],
   "source": [
    "df = pd.read_csv(\"psi.csv\", names=[\"GRADE\", \"PSI\", \"TUCE\", \"GPA\"])"
   ],
   "metadata": {
    "collapsed": false,
    "pycharm": {
     "name": "#%%\n"
    }
   }
  },
  {
   "cell_type": "code",
   "execution_count": 3,
   "outputs": [
    {
     "name": "stdout",
     "output_type": "stream",
     "text": [
      "<class 'pandas.core.frame.DataFrame'>\n",
      "RangeIndex: 32 entries, 0 to 31\n",
      "Data columns (total 4 columns):\n",
      " #   Column  Non-Null Count  Dtype  \n",
      "---  ------  --------------  -----  \n",
      " 0   GRADE   32 non-null     int64  \n",
      " 1   PSI     32 non-null     int64  \n",
      " 2   TUCE    32 non-null     int64  \n",
      " 3   GPA     32 non-null     float64\n",
      "dtypes: float64(1), int64(3)\n",
      "memory usage: 1.1 KB\n"
     ]
    }
   ],
   "source": [
    "df.info()"
   ],
   "metadata": {
    "collapsed": false,
    "pycharm": {
     "name": "#%%\n"
    }
   }
  },
  {
   "cell_type": "code",
   "execution_count": 4,
   "outputs": [
    {
     "data": {
      "text/plain": "           GRADE        PSI       TUCE        GPA\ncount  32.000000  32.000000  32.000000  32.000000\nmean    0.343750   0.437500  21.937500   3.117188\nstd     0.482559   0.504016   3.901509   0.466713\nmin     0.000000   0.000000  12.000000   2.060000\n25%     0.000000   0.000000  19.750000   2.812500\n50%     0.000000   0.000000  22.500000   3.065000\n75%     1.000000   1.000000  25.000000   3.515000\nmax     1.000000   1.000000  29.000000   4.000000",
      "text/html": "<div>\n<style scoped>\n    .dataframe tbody tr th:only-of-type {\n        vertical-align: middle;\n    }\n\n    .dataframe tbody tr th {\n        vertical-align: top;\n    }\n\n    .dataframe thead th {\n        text-align: right;\n    }\n</style>\n<table border=\"1\" class=\"dataframe\">\n  <thead>\n    <tr style=\"text-align: right;\">\n      <th></th>\n      <th>GRADE</th>\n      <th>PSI</th>\n      <th>TUCE</th>\n      <th>GPA</th>\n    </tr>\n  </thead>\n  <tbody>\n    <tr>\n      <th>count</th>\n      <td>32.000000</td>\n      <td>32.000000</td>\n      <td>32.000000</td>\n      <td>32.000000</td>\n    </tr>\n    <tr>\n      <th>mean</th>\n      <td>0.343750</td>\n      <td>0.437500</td>\n      <td>21.937500</td>\n      <td>3.117188</td>\n    </tr>\n    <tr>\n      <th>std</th>\n      <td>0.482559</td>\n      <td>0.504016</td>\n      <td>3.901509</td>\n      <td>0.466713</td>\n    </tr>\n    <tr>\n      <th>min</th>\n      <td>0.000000</td>\n      <td>0.000000</td>\n      <td>12.000000</td>\n      <td>2.060000</td>\n    </tr>\n    <tr>\n      <th>25%</th>\n      <td>0.000000</td>\n      <td>0.000000</td>\n      <td>19.750000</td>\n      <td>2.812500</td>\n    </tr>\n    <tr>\n      <th>50%</th>\n      <td>0.000000</td>\n      <td>0.000000</td>\n      <td>22.500000</td>\n      <td>3.065000</td>\n    </tr>\n    <tr>\n      <th>75%</th>\n      <td>1.000000</td>\n      <td>1.000000</td>\n      <td>25.000000</td>\n      <td>3.515000</td>\n    </tr>\n    <tr>\n      <th>max</th>\n      <td>1.000000</td>\n      <td>1.000000</td>\n      <td>29.000000</td>\n      <td>4.000000</td>\n    </tr>\n  </tbody>\n</table>\n</div>"
     },
     "execution_count": 4,
     "metadata": {},
     "output_type": "execute_result"
    }
   ],
   "source": [
    "# GRADE is the target column\n",
    "df.describe()"
   ],
   "metadata": {
    "collapsed": false,
    "pycharm": {
     "name": "#%%\n"
    }
   }
  },
  {
   "cell_type": "code",
   "execution_count": 5,
   "outputs": [
    {
     "data": {
      "text/plain": "<Figure size 1440x360 with 4 Axes>",
      "image/png": "[encoded data removed]"
     },
     "metadata": {},
     "output_type": "display_data"
    }
   ],
   "source": [
    "# Subplots\n",
    "fig, axs = plt.subplots(nrows=1, ncols=len(df.columns))\n",
    "fig.set_figwidth(20)\n",
    "fig.set_figheight(5)\n",
    "for i, col in enumerate(df.columns):\n",
    "    axs[i].set_title(f\"Histogram of column '{col}'\", size=18)\n",
    "    df[col].hist(edgecolor=\"black\", ax=axs[i])\n",
    "    fig.tight_layout()"
   ],
   "metadata": {
    "collapsed": false,
    "pycharm": {
     "name": "#%%\n"
    }
   }
  },
  {
   "cell_type": "markdown",
   "source": [
    "# Logit Model\n",
    "Logit Model is described as $$P(y_i=1|x_i)=\\frac{e^{x_i'\\beta}}{1+e^{x_i'\\beta}}, \\; x_i \\in \\mathbb{R^p} $$\n",
    "- Coefficient vector $\\beta$ is estimated using the Maximum-Likelihood approach.\n",
    "- $y_i$ is nominal scaled dependent variable, e.g. $y=1$ if an event $E$ occurs, otherwise $y=0$"
   ],
   "metadata": {
    "collapsed": false,
    "pycharm": {
     "name": "#%% md\n"
    }
   }
  },
  {
   "cell_type": "code",
   "execution_count": 6,
   "outputs": [],
   "source": [
    "from sklearn.linear_model import LogisticRegression\n",
    "from sklearn.model_selection import train_test_split\n",
    "from sklearn.metrics import confusion_matrix\n",
    "from sklearn.metrics import accuracy_score\n",
    "from sklearn.metrics import classification_report"
   ],
   "metadata": {
    "collapsed": false,
    "pycharm": {
     "name": "#%%\n"
    }
   }
  },
  {
   "cell_type": "code",
   "execution_count": 7,
   "outputs": [
    {
     "name": "stdout",
     "output_type": "stream",
     "text": [
      "X_train Shape = (25, 3)\n",
      "X_test Shape = (7, 3)\n",
      "y_train Shape = (25,)\n",
      "y_test Shape = (7,)\n"
     ]
    }
   ],
   "source": [
    "# Split data 80:20\n",
    "X_train, X_test, y_train, y_test = train_test_split(df[[\"PSI\", \"TUCE\", \"GPA\"]],\n",
    "                                                    df[\"GRADE\"],\n",
    "                                                    test_size=0.20,\n",
    "                                                    random_state=42)\n",
    "# Preview X_train\n",
    "X_train.head()\n",
    "# Print information about sizes\n",
    "print(f\"X_train Shape = {X_train.shape}\")\n",
    "print(f\"X_test Shape = {X_test.shape}\")\n",
    "print(f\"y_train Shape = {y_train.shape}\")\n",
    "print(f\"y_test Shape = {y_test.shape}\")"
   ],
   "metadata": {
    "collapsed": false,
    "pycharm": {
     "name": "#%%\n"
    }
   }
  },
  {
   "cell_type": "code",
   "execution_count": 8,
   "outputs": [
    {
     "name": "stdout",
     "output_type": "stream",
     "text": [
      "Intercept: [-5.62517918]\n",
      "Coefficients: [[1.07405012 0.07876129 0.8461425 ]]\n",
      "Params: {'C': 1.0, 'class_weight': None, 'dual': False, 'fit_intercept': True, 'intercept_scaling': 1, 'l1_ratio': None, 'max_iter': 100, 'multi_class': 'auto', 'n_jobs': None, 'penalty': 'l2', 'random_state': None, 'solver': 'lbfgs', 'tol': 0.0001, 'verbose': 0, 'warm_start': False}\n"
     ]
    }
   ],
   "source": [
    "# Fit model\n",
    "clf = LogisticRegression(fit_intercept=True)\n",
    "clf.fit(X_train, y_train);\n",
    "\n",
    "# Print coefficients and intercept\n",
    "print(f\"Intercept: {clf.intercept_}\")\n",
    "print(f\"Coefficients: {clf.coef_}\")\n",
    "print(f\"Params: {clf.get_params()}\")"
   ],
   "metadata": {
    "collapsed": false,
    "pycharm": {
     "name": "#%%\n"
    }
   }
  },
  {
   "cell_type": "code",
   "execution_count": 9,
   "outputs": [
    {
     "data": {
      "text/plain": "<Figure size 504x360 with 2 Axes>",
      "image/png": "[encoded data removed]"
     },
     "metadata": {},
     "output_type": "display_data"
    },
    {
     "name": "stdout",
     "output_type": "stream",
     "text": [
      "________________________________________________________________________________\n",
      "              precision    recall  f1-score   support\n",
      "\n",
      "           0       0.80      1.00      0.89         4\n",
      "           1       1.00      0.67      0.80         3\n",
      "\n",
      "    accuracy                           0.86         7\n",
      "   macro avg       0.90      0.83      0.84         7\n",
      "weighted avg       0.89      0.86      0.85         7\n",
      "\n",
      "Information:\n",
      "Precision: Percentage of correct positive predictions relative to total positive predictions\n",
      "Recall: Percentage of correct positive predictions relative to total actual positives.\n",
      "F1 Score: A weighted harmonic mean of precision and recall. The closer to 1, the better the model.\n",
      "________________________________________________________________________________\n"
     ]
    }
   ],
   "source": [
    "# Predict values\n",
    "y_pred = clf.predict(X_test)\n",
    "\n",
    "# Plot Confusion matrics\n",
    "cm = confusion_matrix(y_true=y_test, y_pred=y_pred)\n",
    "\n",
    "# Heatmap plot settings\n",
    "plt.figure(figsize=(7,5))\n",
    "plt.title(\"Confusion matrix\")\n",
    "sns.heatmap(cm, annot=True)\n",
    "plt.xlabel(\"Predicted\")\n",
    "plt.ylabel(\"Actual\")\n",
    "plt.show()\n",
    "\n",
    "# Plot classification report\n",
    "print(80 * \"_\")\n",
    "print(classification_report(y_true=y_test, y_pred=y_pred))\n",
    "print(\"Information:\")\n",
    "print(\"Precision: Percentage of correct positive predictions relative to total positive predictions\")\n",
    "print(\"Recall: Percentage of correct positive predictions relative to total actual positives.\")\n",
    "print(\"F1 Score: A weighted harmonic mean of precision and recall. The closer to 1, the better the model.\")\n",
    "print(80 * \"_\")"
   ],
   "metadata": {
    "collapsed": false,
    "pycharm": {
     "name": "#%%\n"
    }
   }
  },
  {
   "cell_type": "markdown",
   "source": [
    "# Get Probablities of Prediction (Logit)\n",
    "Can be used to define custom cut_off value for P(y=1|x) to draw ROC Curve."
   ],
   "metadata": {
    "collapsed": false,
    "pycharm": {
     "name": "#%% md\n"
    }
   }
  },
  {
   "cell_type": "code",
   "execution_count": 10,
   "outputs": [],
   "source": [
    "X_test_prob = pd.DataFrame(X_test).copy()\n",
    "predicted_probabilites = clf.predict_proba(X_test)\n",
    "X_test_prob[\"P(y=0|x')\"] = predicted_probabilites[:, 0]\n",
    "X_test_prob[\"P(y=1|x')\"] = predicted_probabilites[:, 1]"
   ],
   "metadata": {
    "collapsed": false,
    "pycharm": {
     "name": "#%%\n"
    }
   }
  },
  {
   "cell_type": "code",
   "execution_count": 12,
   "outputs": [
    {
     "data": {
      "text/plain": "    PSI  TUCE   GPA  P(y=0|x')  P(y=1|x')\n29    1    23  4.00   0.344128   0.655872\n15    0    19  2.74   0.859396   0.140604\n24    1    24  3.54   0.417149   0.582851\n17    0    19  2.83   0.849940   0.150060\n8     0    25  3.03   0.748821   0.251179\n9     0    29  3.92   0.506056   0.493944\n30    1    21  3.10   0.568099   0.431901",
      "text/html": "<div>\n<style scoped>\n    .dataframe tbody tr th:only-of-type {\n        vertical-align: middle;\n    }\n\n    .dataframe tbody tr th {\n        vertical-align: top;\n    }\n\n    .dataframe thead th {\n        text-align: right;\n    }\n</style>\n<table border=\"1\" class=\"dataframe\">\n  <thead>\n    <tr style=\"text-align: right;\">\n      <th></th>\n      <th>PSI</th>\n      <th>TUCE</th>\n      <th>GPA</th>\n      <th>P(y=0|x')</th>\n      <th>P(y=1|x')</th>\n    </tr>\n  </thead>\n  <tbody>\n    <tr>\n      <th>29</th>\n      <td>1</td>\n      <td>23</td>\n      <td>4.00</td>\n      <td>0.344128</td>\n      <td>0.655872</td>\n    </tr>\n    <tr>\n      <th>15</th>\n      <td>0</td>\n      <td>19</td>\n      <td>2.74</td>\n      <td>0.859396</td>\n      <td>0.140604</td>\n    </tr>\n    <tr>\n      <th>24</th>\n      <td>1</td>\n      <td>24</td>\n      <td>3.54</td>\n      <td>0.417149</td>\n      <td>0.582851</td>\n    </tr>\n    <tr>\n      <th>17</th>\n      <td>0</td>\n      <td>19</td>\n      <td>2.83</td>\n      <td>0.849940</td>\n      <td>0.150060</td>\n    </tr>\n    <tr>\n      <th>8</th>\n      <td>0</td>\n      <td>25</td>\n      <td>3.03</td>\n      <td>0.748821</td>\n      <td>0.251179</td>\n    </tr>\n    <tr>\n      <th>9</th>\n      <td>0</td>\n      <td>29</td>\n      <td>3.92</td>\n      <td>0.506056</td>\n      <td>0.493944</td>\n    </tr>\n    <tr>\n      <th>30</th>\n      <td>1</td>\n      <td>21</td>\n      <td>3.10</td>\n      <td>0.568099</td>\n      <td>0.431901</td>\n    </tr>\n  </tbody>\n</table>\n</div>"
     },
     "execution_count": 12,
     "metadata": {},
     "output_type": "execute_result"
    }
   ],
   "source": [
    "X_test_prob.head(10)"
   ],
   "metadata": {
    "collapsed": false,
    "pycharm": {
     "name": "#%%\n"
    }
   }
  }
 ],
 "metadata": {
  "kernelspec": {
   "display_name": "Python 3",
   "language": "python",
   "name": "python3"
  },
  "language_info": {
   "codemirror_mode": {
    "name": "ipython",
    "version": 2
   },
   "file_extension": ".py",
   "mimetype": "text/x-python",
   "name": "python",
   "nbconvert_exporter": "python",
   "pygments_lexer": "ipython2",
   "version": "2.7.6"
  }
 },
 "nbformat": 4,
 "nbformat_minor": 0
}